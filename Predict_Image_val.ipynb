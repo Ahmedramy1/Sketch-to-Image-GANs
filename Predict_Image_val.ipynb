{
 "cells": [
  {
   "cell_type": "markdown",
   "id": "48868df3",
   "metadata": {},
   "source": [
    "# Generator Scores"
   ]
  },
  {
   "cell_type": "code",
   "execution_count": 1,
   "id": "798128ad",
   "metadata": {},
   "outputs": [],
   "source": [
    "from tqdm import tqdm\n",
    "from numpy import cov\n",
    "from numpy import trace\n",
    "from numpy import iscomplexobj\n",
    "from numpy import asarray\n",
    "from numpy.random import shuffle\n",
    "from scipy.linalg import sqrtm\n",
    "from keras.applications.inception_v3 import InceptionV3\n",
    "from keras.applications.inception_v3 import preprocess_input\n",
    "from tqdm import tqdm\n",
    "from keras.preprocessing import image\n",
    "import os\n",
    "from os import listdir\n",
    "from os.path import join, isfile\n",
    "import numpy as np\n",
    "from matplotlib import pyplot\n",
    "from keras.models import load_model\n",
    "from keras.preprocessing.image import img_to_array, array_to_img\n",
    "from keras.preprocessing.image import load_img\n",
    "from numpy import expand_dims\n",
    "#from skimage.transform import resize\n",
    "from scipy.linalg import sqrtm\n",
    "from skimage.transform import resize"
   ]
  },
  {
   "cell_type": "code",
   "execution_count": 2,
   "id": "76da91b7",
   "metadata": {},
   "outputs": [],
   "source": [
    "def load_image(filename, size=(256,256)):\n",
    "    # load image with the preferred size\n",
    "    pixels = load_img(filename, target_size=size)\n",
    "    # convert to numpy array\n",
    "    pixels = img_to_array(pixels)\n",
    "    # scale from [0,255] to [-1,1]\n",
    "    pixels = (pixels - 127.5) / 127.5\n",
    "    # reshape to 1 sample\n",
    "    pixels = expand_dims(pixels, 0)\n",
    "    return pixels"
   ]
  },
  {
   "cell_type": "markdown",
   "id": "0cfdc246",
   "metadata": {},
   "source": [
    "# Testing Validation Set"
   ]
  },
  {
   "cell_type": "code",
   "execution_count": 3,
   "id": "a3ba382b",
   "metadata": {},
   "outputs": [],
   "source": [
    "from tqdm import tqdm\n",
    "from os import listdir\n",
    "from os.path import join, isfile\n",
    "from keras.preprocessing import image\n",
    "import numpy as np\n",
    "from matplotlib import pyplot"
   ]
  },
  {
   "cell_type": "code",
   "execution_count": 4,
   "id": "946523a1",
   "metadata": {},
   "outputs": [
    {
     "name": "stdout",
     "output_type": "stream",
     "text": [
      "WARNING:tensorflow:No training configuration found in the save file, so the model was *not* compiled. Compile it manually.\n"
     ]
    }
   ],
   "source": [
    "g_model = load_model('Shoes_Checkpoints/model_aug_70.h5')"
   ]
  },
  {
   "cell_type": "code",
   "execution_count": 5,
   "id": "1886581d",
   "metadata": {},
   "outputs": [],
   "source": [
    "def test_images(path, size=(256,512)):\n",
    "    i = 0\n",
    "    for filename in tqdm(listdir(path)):\n",
    "        if i >= 1110:\n",
    "            break     \n",
    "        img = load_image(path+filename)\n",
    "        print(img.shape)\n",
    "        pred = g_model.predict(img)\n",
    "        pred = (pred + 1) / 2.0\n",
    "        pyplot.imsave('epochs_results/results_70/'+filename +'.jpg', pred[0])\n",
    "        i += 1\n",
    "    print('i: {}'.format(i))"
   ]
  },
  {
   "cell_type": "code",
   "execution_count": 6,
   "id": "e8f56499",
   "metadata": {
    "scrolled": true
   },
   "outputs": [
    {
     "name": "stderr",
     "output_type": "stream",
     "text": [
      "\r",
      "  0%|                                                                                            | 0/3 [00:00<?, ?it/s]"
     ]
    },
    {
     "name": "stdout",
     "output_type": "stream",
     "text": [
      "(1, 256, 256, 3)\n"
     ]
    },
    {
     "name": "stderr",
     "output_type": "stream",
     "text": [
      "100%|████████████████████████████████████████████████████████████████████████████████████| 3/3 [00:03<00:00,  1.09s/it]"
     ]
    },
    {
     "name": "stdout",
     "output_type": "stream",
     "text": [
      "(1, 256, 256, 3)\n",
      "(1, 256, 256, 3)\n",
      "i: 3\n"
     ]
    },
    {
     "name": "stderr",
     "output_type": "stream",
     "text": [
      "\n"
     ]
    }
   ],
   "source": [
    "test_images('epochs_results/val_s/')"
   ]
  }
 ],
 "metadata": {
  "kernelspec": {
   "display_name": "Python 3 (ipykernel)",
   "language": "python",
   "name": "python3"
  },
  "language_info": {
   "codemirror_mode": {
    "name": "ipython",
    "version": 3
   },
   "file_extension": ".py",
   "mimetype": "text/x-python",
   "name": "python",
   "nbconvert_exporter": "python",
   "pygments_lexer": "ipython3",
   "version": "3.9.12"
  }
 },
 "nbformat": 4,
 "nbformat_minor": 5
}
