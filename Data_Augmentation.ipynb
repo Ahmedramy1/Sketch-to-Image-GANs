{
 "cells": [
  {
   "cell_type": "code",
   "execution_count": 1,
   "id": "11a3f600",
   "metadata": {},
   "outputs": [],
   "source": [
    "from keras.preprocessing.image import array_to_img, img_to_array, load_img\n",
    "from tqdm import tqdm\n",
    "from os import listdir\n",
    "from keras.preprocessing import image\n",
    "import numpy as np\n",
    "import cv2\n",
    "from matplotlib import pyplot"
   ]
  },
  {
   "cell_type": "code",
   "execution_count": 12,
   "id": "b36bd610",
   "metadata": {},
   "outputs": [],
   "source": [
    "def load_image(path, size = (256,256)):\n",
    "    imgs_list = list()\n",
    "    i = 0\n",
    "    for filename in tqdm(listdir(path)):\n",
    "        if i >= 1:\n",
    "            break\n",
    "        img = cv2.imread(path + filename)\n",
    "        imgs_list.append(img)\n",
    "        i += 1\n",
    "    return [imgs_list]"
   ]
  },
  {
   "cell_type": "code",
   "execution_count": 13,
   "id": "42f01687",
   "metadata": {},
   "outputs": [
    {
     "name": "stderr",
     "output_type": "stream",
     "text": [
      "  0%|                                                                               | 1/14197 [00:00<00:28, 494.26it/s]\n",
      "  0%|                                                                               | 1/14197 [00:00<00:28, 499.56it/s]\n"
     ]
    }
   ],
   "source": [
    "[src_images] = load_image('train_s/')\n",
    "[tar_images] = load_image('train_i/')"
   ]
  },
  {
   "cell_type": "markdown",
   "id": "83f4b367",
   "metadata": {},
   "source": [
    "# Manual Data Augmentation"
   ]
  },
  {
   "cell_type": "code",
   "execution_count": 4,
   "id": "e2fc38d8",
   "metadata": {},
   "outputs": [],
   "source": [
    "image_path = 'Augmented_Shoes_I/img1045_AB.jpg.jpg'"
   ]
  },
  {
   "cell_type": "code",
   "execution_count": null,
   "id": "1a3e007c",
   "metadata": {},
   "outputs": [],
   "source": []
  },
  {
   "cell_type": "code",
   "execution_count": 14,
   "id": "c7836559",
   "metadata": {},
   "outputs": [],
   "source": [
    "def rotate_image(image, name, angle=30):\n",
    "    #image = cv2.imread(image_path)\n",
    "    #print(image)\n",
    "    #print(image.shape)\n",
    "    #print(type(image))\n",
    "    (h, w) = image.shape[:2]\n",
    "    center = (w / 2, h / 2)\n",
    "    scale = 1\n",
    "    M = cv2.getRotationMatrix2D(center, angle, scale)\n",
    "    rotated = cv2.warpAffine(image, M, (w, h), borderValue=(255,255,255))\n",
    "    \n",
    "    cv2.imshow('original Image', image)\n",
    "    cv2.imshow('Rotated Image', rotated)\n",
    "    cv2.imwrite('Augmented_Shoes_I/'+str(name)+'.jpg', rotated)\n",
    "    cv2.waitKey(0)\n",
    "    cv2.destroyAllWindows()"
   ]
  },
  {
   "cell_type": "code",
   "execution_count": 15,
   "id": "7604c262",
   "metadata": {},
   "outputs": [],
   "source": [
    "rotate_image(tar_images[0], 'img_')"
   ]
  }
 ],
 "metadata": {
  "kernelspec": {
   "display_name": "Python 3 (ipykernel)",
   "language": "python",
   "name": "python3"
  },
  "language_info": {
   "codemirror_mode": {
    "name": "ipython",
    "version": 3
   },
   "file_extension": ".py",
   "mimetype": "text/x-python",
   "name": "python",
   "nbconvert_exporter": "python",
   "pygments_lexer": "ipython3",
   "version": "3.9.12"
  }
 },
 "nbformat": 4,
 "nbformat_minor": 5
}
