{
 "cells": [
  {
   "cell_type": "code",
   "execution_count": 1,
   "id": "11a3f600",
   "metadata": {},
   "outputs": [],
   "source": [
    "from tqdm import tqdm\n",
    "from os import listdir\n",
    "import numpy as np\n",
    "from matplotlib import pyplot\n",
    "import tensorflow as tf\n",
    "from keras.preprocessing.image import apply_affine_transform\n",
    "import imageio\n",
    "import imgaug as ia\n",
    "import imgaug.augmenters as iaa\n",
    "import ipyplot"
   ]
  },
  {
   "cell_type": "code",
   "execution_count": 2,
   "id": "b36bd610",
   "metadata": {},
   "outputs": [],
   "source": [
    "def load_image(path, size = (256,256)):\n",
    "    imgs_list = list()\n",
    "    i = 0\n",
    "    for filename in tqdm(listdir(path)):\n",
    "        #if i >= 1:\n",
    "        #    break\n",
    "        img = pyplot.imread(path + filename)\n",
    "        imgs_list.append(img)\n",
    "        #i += 1\n",
    "    return [imgs_list]"
   ]
  },
  {
   "cell_type": "code",
   "execution_count": 3,
   "id": "42f01687",
   "metadata": {},
   "outputs": [
    {
     "name": "stderr",
     "output_type": "stream",
     "text": [
      "100%|█████████████████████████████████████████████████████████████████████████████| 2000/2000 [00:08<00:00, 222.85it/s]\n",
      "100%|█████████████████████████████████████████████████████████████████████████████| 2000/2000 [00:09<00:00, 213.61it/s]\n"
     ]
    }
   ],
   "source": [
    "[src_images] = load_image('Bags_for_augmentation_s/')\n",
    "[tar_images] = load_image('Bags_for_augmentation_i/')"
   ]
  },
  {
   "cell_type": "markdown",
   "id": "142eac8f",
   "metadata": {},
   "source": [
    "# Manual Data Augmentation"
   ]
  },
  {
   "cell_type": "markdown",
   "id": "6f0602c9",
   "metadata": {},
   "source": [
    "# Image Zoom"
   ]
  },
  {
   "cell_type": "code",
   "execution_count": 4,
   "id": "5456f68c",
   "metadata": {},
   "outputs": [],
   "source": [
    "def image_zoom(x, zoom_range, filedir, filename):\n",
    "    zoomed = apply_affine_transform(x, zx=zoom_range, zy=zoom_range)\n",
    "    pyplot.imsave(filedir+'/zoomed_'+filename+'.jpg', zoomed)"
   ]
  },
  {
   "cell_type": "code",
   "execution_count": 5,
   "id": "93d0fa54",
   "metadata": {},
   "outputs": [],
   "source": [
    "#img = pyplot.imread(image_path)\n",
    "#img = image_zoom(img, 0.8)\n",
    "#pyplot.imshow(img)"
   ]
  },
  {
   "cell_type": "markdown",
   "id": "24e405ad",
   "metadata": {},
   "source": [
    "# Image Flip"
   ]
  },
  {
   "cell_type": "code",
   "execution_count": 6,
   "id": "bf9c51d5",
   "metadata": {},
   "outputs": [],
   "source": [
    "#input_img = pyplot.imread(image_path)"
   ]
  },
  {
   "cell_type": "code",
   "execution_count": 7,
   "id": "e22bef5a",
   "metadata": {},
   "outputs": [],
   "source": [
    "def image_flip(img, filedir, filename):\n",
    "    #Horizontal Flip\n",
    "    hflip= iaa.Fliplr(p=1.0)\n",
    "    input_hf= hflip.augment_image(img)\n",
    "    #Vertical Flip\n",
    "    #vflip= iaa.Flipud(p=1.0) \n",
    "    #input_vf= vflip.augment_image(img)\n",
    "    \n",
    "    #images_list=[img, input_hf, input_vf]\n",
    "    #labels = ['Original', 'Horizontally flipped', 'Vertically flipped']\n",
    "    #ipyplot.plot_images(images_list,labels=labels,img_width=180)\n",
    "    #pyplot.imsave(filedir+'/vlip_'+filename+'.jpg', input_vf)\n",
    "    pyplot.imsave(filedir+'/hlip_'+filename+'.jpg', input_hf)"
   ]
  },
  {
   "cell_type": "markdown",
   "id": "3f20d2af",
   "metadata": {},
   "source": [
    "# Image Shear"
   ]
  },
  {
   "cell_type": "code",
   "execution_count": 8,
   "id": "9ad30285",
   "metadata": {},
   "outputs": [],
   "source": [
    "def image_shear(img, filedir, filename):\n",
    "    input_img = img\n",
    "    shear = iaa.Affine(shear= 0.2, cval = 255)\n",
    "    input_shear=shear.augment_image(input_img)\n",
    "    pyplot.imsave(filedir+'/shear_'+filename+'.jpg', input_shear)\n",
    "    #images_list=[input_img, input_shear]\n",
    "    #labels = ['Original', 'Image Shearing']\n",
    "    #ipyplot.plot_images(images_list,labels=labels,img_width=180)"
   ]
  },
  {
   "cell_type": "code",
   "execution_count": 9,
   "id": "7bd4125f",
   "metadata": {},
   "outputs": [
    {
     "name": "stderr",
     "output_type": "stream",
     "text": [
      "100%|██████████████████████████████████████████████████████████████████████████████| 2000/2000 [00:54<00:00, 36.82it/s]\n"
     ]
    }
   ],
   "source": [
    "i = 0\n",
    "for img in tqdm(tar_images):\n",
    "    image_zoom(img, 0.8, 'Augmented_Bags_I', str(i))\n",
    "    image_flip(img, 'Augmented_Bags_I', str(i))\n",
    "    image_shear(img, 'Augmented_Bags_I', str(i))\n",
    "    i+=1"
   ]
  },
  {
   "cell_type": "code",
   "execution_count": 10,
   "id": "76675e9c",
   "metadata": {},
   "outputs": [
    {
     "name": "stderr",
     "output_type": "stream",
     "text": [
      "100%|██████████████████████████████████████████████████████████████████████████████| 2000/2000 [00:56<00:00, 35.65it/s]\n"
     ]
    }
   ],
   "source": [
    "i = 0\n",
    "for img in tqdm(src_images):\n",
    "    image_zoom(img, 0.8, 'Augmented_Bags_S', str(i))\n",
    "    image_flip(img, 'Augmented_Bags_S', str(i))\n",
    "    image_shear(img, 'Augmented_Bags_S', str(i))\n",
    "    i+=1"
   ]
  }
 ],
 "metadata": {
  "kernelspec": {
   "display_name": "Python 3 (ipykernel)",
   "language": "python",
   "name": "python3"
  },
  "language_info": {
   "codemirror_mode": {
    "name": "ipython",
    "version": 3
   },
   "file_extension": ".py",
   "mimetype": "text/x-python",
   "name": "python",
   "nbconvert_exporter": "python",
   "pygments_lexer": "ipython3",
   "version": "3.9.12"
  }
 },
 "nbformat": 4,
 "nbformat_minor": 5
}
