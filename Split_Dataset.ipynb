{
 "cells": [
  {
   "cell_type": "code",
   "execution_count": 1,
   "id": "ecca1c93",
   "metadata": {},
   "outputs": [],
   "source": [
    "from PIL import Image\n",
    "from tqdm import tqdm\n",
    "import numpy as np\n",
    "from tqdm import tqdm\n",
    "from keras.preprocessing import image\n",
    "import os\n",
    "from os import listdir\n",
    "from os.path import join, isfile"
   ]
  },
  {
   "cell_type": "code",
   "execution_count": 2,
   "id": "ec0120f5",
   "metadata": {},
   "outputs": [
    {
     "name": "stdout",
     "output_type": "stream",
     "text": [
      "C:\\Users\\Ahmed\\Downloads\\edges2shoes\\edges2shoes\n"
     ]
    }
   ],
   "source": [
    "print(os.getcwd())"
   ]
  },
  {
   "cell_type": "code",
   "execution_count": 3,
   "id": "12a6016e",
   "metadata": {},
   "outputs": [],
   "source": [
    "def load_images(path, size=(256,512)):\n",
    "    src_list, tar_list = list(), list()\n",
    "    for filename in tqdm(listdir(path)):\n",
    "        pixels = image.load_img(path + filename, target_size=size)\n",
    "        pixels = image.img_to_array(pixels)\n",
    "        sketch_img, real_img = pixels[:, :256], pixels[:, 256:]\n",
    "        src_list.append(sketch_img)\n",
    "        tar_list.append(real_img)\n",
    "        sketch_img = image.array_to_img(sketch_img)\n",
    "        real_img = image.array_to_img(real_img)\n",
    "        sketch_img.save(\"C:/Users/Ahmed/Downloads/edges2shoes/edges2shoes/val_train_s/img%s.jpg\" % (filename))\n",
    "        real_img.save(\"C:/Users/Ahmed/Downloads/edges2shoes/edges2shoes/val_train_i/img%s.jpg\" % (filename))"
   ]
  },
  {
   "cell_type": "code",
   "execution_count": 4,
   "id": "796f14a3",
   "metadata": {},
   "outputs": [
    {
     "name": "stderr",
     "output_type": "stream",
     "text": [
      "100%|████████████████████████████████████████████████████████████████████████████████| 200/200 [00:02<00:00, 90.37it/s]\n"
     ]
    }
   ],
   "source": [
    "load_images('val/')"
   ]
  },
  {
   "cell_type": "code",
   "execution_count": null,
   "id": "43526fc3",
   "metadata": {},
   "outputs": [],
   "source": []
  },
  {
   "cell_type": "code",
   "execution_count": null,
   "id": "cc363eea",
   "metadata": {},
   "outputs": [],
   "source": []
  }
 ],
 "metadata": {
  "kernelspec": {
   "display_name": "Python 3 (ipykernel)",
   "language": "python",
   "name": "python3"
  },
  "language_info": {
   "codemirror_mode": {
    "name": "ipython",
    "version": 3
   },
   "file_extension": ".py",
   "mimetype": "text/x-python",
   "name": "python",
   "nbconvert_exporter": "python",
   "pygments_lexer": "ipython3",
   "version": "3.9.12"
  }
 },
 "nbformat": 4,
 "nbformat_minor": 5
}
